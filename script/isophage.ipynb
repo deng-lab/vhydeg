{
 "cells": [
  {
   "cell_type": "code",
   "execution_count": 1,
   "metadata": {},
   "outputs": [],
   "source": [
    "import pandas as pd\n",
    "import os"
   ]
  },
  {
   "cell_type": "code",
   "execution_count": 60,
   "metadata": {},
   "outputs": [],
   "source": [
    "fin_checkv = \"quality_summary.tsv\"\n",
    "fin_genomad_virus = \"isophage_ragtag_nonRef_virus_summary.tsv\"\n",
    "fin_genomad_plasmid = \"isophage_ragtag_nonRef_plasmid_summary.tsv\"\n",
    "fin_iphop = \"Host_prediction_to_genome_m90.csv\"\n",
    "fin_vs2 = \"final-viral-score.tsv\"\n",
    "fin_vs2_cat = \"vs2_category.csv\"\n",
    "fin_clst = \"isophage_p95_s95_c95_cluster_ani_raw.tsv\"\n",
    "\n",
    "df_checkv = pd.read_csv(fin_checkv, sep=\"\\t\")\n",
    "df_genomad_virus = pd.read_csv(fin_genomad_virus, sep=\"\\t\")\n",
    "df_genomad_plasmid = pd.read_csv(fin_genomad_plasmid, sep=\"\\t\")\n",
    "df_iphop = pd.read_csv(fin_iphop, sep=\",\")\n",
    "df_vs2 = pd.read_csv(fin_vs2, sep=\"\\t\")\n",
    "df_vs2_cat = pd.read_csv(fin_vs2_cat, sep=\",\")\n",
    "df_clst = pd.read_csv(fin_clst, sep=\"\\t\", header=None, names=[\"cluster\", \"seq_name\"])\n",
    "\n",
    "# concat df_genomad_virus and df_genomad_plasmid\n",
    "df_genomad = pd.concat([df_genomad_virus, df_genomad_plasmid], axis=0)\n",
    "\n",
    "# sort df_iphop by column \"Confidence score\" in descending order, and then remove duplicates based on column \"Virus\" only keep the first one\n",
    "df_iphop_one = df_iphop.sort_values(by=\"Confidence score\", ascending=False).drop_duplicates(subset=\"Virus\", keep=\"first\")"
   ]
  },
  {
   "cell_type": "code",
   "execution_count": 81,
   "metadata": {},
   "outputs": [],
   "source": [
    "# merge df_genomad_virus and df_checkv based on seq_name and contig_id\n",
    "df = df_genomad_virus.merge(df_checkv, left_on=\"seq_name\", right_on=\"contig_id\", how=\"inner\")\n",
    "df = df.merge(df_vs2, left_on=\"seq_name\", right_on=\"seqname\", how=\"left\")\n",
    "df = df.merge(df_iphop_one, left_on=\"seq_name\", right_on=\"Virus\", how=\"left\")\n",
    "\n",
    "# checkv_quality in [\"Complete\", \"High-Quality\", \"Medium-Quality\"]\n",
    "# df = df[df[\"checkv_quality\"].isin([\"Complete\", \"High-quality\", \"Medium-quality\"])]"
   ]
  },
  {
   "cell_type": "code",
   "execution_count": 82,
   "metadata": {},
   "outputs": [
    {
     "data": {
      "text/plain": [
       "['DMPmix_3_length=59943_depth=185.62x_circular=true',\n",
       " 'DMPmix_7_length=9409_depth=0.14x',\n",
       " 'D45mix_1_length=165254_depth=1.00x_circular=true',\n",
       " 'D45s11_17_length=40759_depth=57.48x_circular=true',\n",
       " 'DMPmix_8_length=5416_depth=0.29x',\n",
       " 'DMPs09_46_length=34615_depth=41.72x',\n",
       " 'DMPmix_4_length=42642_depth=9.47x_circular=true',\n",
       " 'D45mix_2_length=42942_depth=0.26x',\n",
       " 'D45mix_3_length=36732_depth=0.40x',\n",
       " 'DMPmix_6_length=30335_depth=0.49x',\n",
       " 'DMPmix_13_length=1117_depth=0.29x']"
      ]
     },
     "execution_count": 82,
     "metadata": {},
     "output_type": "execute_result"
    }
   ],
   "source": [
    "vcontigs = [x.replace(\"isophage_\", \"\") for x in df.seq_name.to_list()]\n",
    "vcontigs"
   ]
  },
  {
   "cell_type": "code",
   "execution_count": 83,
   "metadata": {},
   "outputs": [
    {
     "data": {
      "text/plain": [
       "['D45mix_1_length=165254_depth=1.00x_circular=true',\n",
       " 'DMPmix_3_length=59943_depth=185.62x_circular=true',\n",
       " 'D45mix_2_length=42942_depth=0.26x,DMPmix_10_length=4151_depth=0.15x',\n",
       " 'DMPmix_4_length=42642_depth=9.47x_circular=true,DMPmix_12_length=1240_depth=0.22x,DMPmix_14_length=1090_depth=0.32x',\n",
       " 'D45s11_17_length=40759_depth=57.48x_circular=true',\n",
       " 'D45mix_3_length=36732_depth=0.40x,DMPmix_5_length=35162_depth=4.37x',\n",
       " 'DMPs09_46_length=34615_depth=41.72x',\n",
       " 'DMPmix_6_length=30335_depth=0.49x',\n",
       " 'DMPmix_7_length=9409_depth=0.14x',\n",
       " 'DMPmix_8_length=5416_depth=0.29x',\n",
       " 'DMPmix_13_length=1117_depth=0.29x']"
      ]
     },
     "execution_count": 83,
     "metadata": {},
     "output_type": "execute_result"
    }
   ],
   "source": [
    "# cluster in df.seq_name\n",
    "df_clst2 = df_clst[df_clst[\"cluster\"].isin(vcontigs)]\n",
    "df_clst2.seq_name.to_list()"
   ]
  },
  {
   "cell_type": "code",
   "execution_count": null,
   "metadata": {},
   "outputs": [],
   "source": []
  }
 ],
 "metadata": {
  "kernelspec": {
   "display_name": "Python 3.9.9 ('py3')",
   "language": "python",
   "name": "python3"
  },
  "language_info": {
   "codemirror_mode": {
    "name": "ipython",
    "version": 3
   },
   "file_extension": ".py",
   "mimetype": "text/x-python",
   "name": "python",
   "nbconvert_exporter": "python",
   "pygments_lexer": "ipython3",
   "version": "3.9.9"
  },
  "orig_nbformat": 4,
  "vscode": {
   "interpreter": {
    "hash": "36b7e3135e62f4e39c946ca538cdf80985091d3cae3fe79d304559c7feda7e19"
   }
  }
 },
 "nbformat": 4,
 "nbformat_minor": 2
}
