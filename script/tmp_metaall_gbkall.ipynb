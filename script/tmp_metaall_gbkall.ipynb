{
 "cells": [
  {
   "cell_type": "code",
   "execution_count": 1,
   "metadata": {},
   "outputs": [],
   "source": [
    "import pandas as pd\n",
    "from Bio import SeqIO"
   ]
  },
  {
   "cell_type": "code",
   "execution_count": 2,
   "metadata": {},
   "outputs": [],
   "source": [
    "with open(\"sel.list\", \"r\") as fh:\n",
    "    clist = [x.strip() for x in fh.readlines()]"
   ]
  },
  {
   "cell_type": "code",
   "execution_count": 4,
   "metadata": {},
   "outputs": [],
   "source": [
    "recs = list(SeqIO.parse(\"viroilsel_canthyd3.gbk\", \"genbank\"))"
   ]
  },
  {
   "cell_type": "code",
   "execution_count": 7,
   "metadata": {},
   "outputs": [],
   "source": [
    "resel = [x for x in recs if x.id in clist]"
   ]
  },
  {
   "cell_type": "code",
   "execution_count": 8,
   "metadata": {},
   "outputs": [
    {
     "data": {
      "text/plain": [
       "4"
      ]
     },
     "execution_count": 8,
     "metadata": {},
     "output_type": "execute_result"
    }
   ],
   "source": [
    "len(resel)"
   ]
  },
  {
   "cell_type": "code",
   "execution_count": 9,
   "metadata": {},
   "outputs": [
    {
     "data": {
      "text/plain": [
       "[SeqRecord(seq=Seq('GGATTTACGGTTCACCATACGGAGGTCGTTCGCAAAGAACATCCAACTATGCAA...GAA'), id='D45s11_33', name='D45s11_33', description='D45s11_33', dbxrefs=[]),\n",
       " SeqRecord(seq=Seq('ACATTTTATTTTATGGATTGGAGTGGAAGGCTACTTGACTCCCGTGGGAATAGC...TCG'), id='D45s11_8', name='D45s11_8', description='D45s11_8', dbxrefs=[]),\n",
       " SeqRecord(seq=Seq('TAAAAAACGGGCCGAGAATGCTCGGCCCGTCTTAGGGATTAAAAGATACGCGAT...TAA'), id='DMPs09_7', name='DMPs09_7', description='DMPs09_7', dbxrefs=[]),\n",
       " SeqRecord(seq=Seq('AAGACCACTCCTAAATGGGTGGTCTTACTTATATGTCTTACATTGGTAGAAGTG...AGT'), id='metaD45s11_NODE_31', name='metaD45s11_NODE_31', description='metaD45s11_NODE_31', dbxrefs=[])]"
      ]
     },
     "execution_count": 9,
     "metadata": {},
     "output_type": "execute_result"
    }
   ],
   "source": [
    "resel"
   ]
  },
  {
   "cell_type": "code",
   "execution_count": null,
   "metadata": {},
   "outputs": [],
   "source": []
  }
 ],
 "metadata": {
  "kernelspec": {
   "display_name": "Python 3.9.9 ('py3')",
   "language": "python",
   "name": "python3"
  },
  "language_info": {
   "codemirror_mode": {
    "name": "ipython",
    "version": 3
   },
   "file_extension": ".py",
   "mimetype": "text/x-python",
   "name": "python",
   "nbconvert_exporter": "python",
   "pygments_lexer": "ipython3",
   "version": "3.9.9"
  },
  "orig_nbformat": 4,
  "vscode": {
   "interpreter": {
    "hash": "36b7e3135e62f4e39c946ca538cdf80985091d3cae3fe79d304559c7feda7e19"
   }
  }
 },
 "nbformat": 4,
 "nbformat_minor": 2
}
