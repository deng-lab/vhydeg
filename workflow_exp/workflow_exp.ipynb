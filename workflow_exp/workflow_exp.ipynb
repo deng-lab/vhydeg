{
 "cells": [
  {
   "attachments": {},
   "cell_type": "markdown",
   "metadata": {},
   "source": [
    "# Isolated Bacterial Genome Analysis\n",
    "\n",
    "This part contains code to analyse the isolated bacterial genome. It contains the following steps:\n",
    "\n",
    "## Split chromesome and plasmids based on `genomad` classification\n",
    "\n"
   ]
  },
  {
   "cell_type": "code",
   "execution_count": 1,
   "metadata": {},
   "outputs": [
    {
     "ename": "FileNotFoundError",
     "evalue": "[Errno 2] No such file or directory: 'D45.gbff'",
     "output_type": "error",
     "traceback": [
      "\u001b[0;31m---------------------------------------------------------------------------\u001b[0m",
      "\u001b[0;31mFileNotFoundError\u001b[0m                         Traceback (most recent call last)",
      "\u001b[0;32m<ipython-input-1-2cb022c36bf2>\u001b[0m in \u001b[0;36m<module>\u001b[0;34m\u001b[0m\n\u001b[1;32m      1\u001b[0m \u001b[0;32mfrom\u001b[0m \u001b[0mBio\u001b[0m \u001b[0;32mimport\u001b[0m \u001b[0mSeqIO\u001b[0m\u001b[0;34m\u001b[0m\u001b[0;34m\u001b[0m\u001b[0m\n\u001b[1;32m      2\u001b[0m \u001b[0;34m\u001b[0m\u001b[0m\n\u001b[0;32m----> 3\u001b[0;31m \u001b[0mrcs\u001b[0m \u001b[0;34m=\u001b[0m \u001b[0mlist\u001b[0m\u001b[0;34m(\u001b[0m\u001b[0mSeqIO\u001b[0m\u001b[0;34m.\u001b[0m\u001b[0mparse\u001b[0m\u001b[0;34m(\u001b[0m\u001b[0;34m\"D45.gbff\"\u001b[0m\u001b[0;34m,\u001b[0m \u001b[0;34m\"genbank\"\u001b[0m\u001b[0;34m)\u001b[0m\u001b[0;34m)\u001b[0m\u001b[0;34m\u001b[0m\u001b[0;34m\u001b[0m\u001b[0m\n\u001b[0m\u001b[1;32m      4\u001b[0m \u001b[0;34m\u001b[0m\u001b[0m\n\u001b[1;32m      5\u001b[0m \u001b[0mplasmid_ids\u001b[0m \u001b[0;34m=\u001b[0m \u001b[0;34m[\u001b[0m\u001b[0;34m\"D45_12\"\u001b[0m\u001b[0;34m,\u001b[0m \u001b[0;34m\"D45_16\"\u001b[0m\u001b[0;34m,\u001b[0m \u001b[0;34m\"D45_20\"\u001b[0m\u001b[0;34m,\u001b[0m \u001b[0;34m\"D45_25\"\u001b[0m\u001b[0;34m,\u001b[0m \u001b[0;34m\"D45_28\"\u001b[0m\u001b[0;34m,\u001b[0m \u001b[0;34m\"D45_29\"\u001b[0m\u001b[0;34m,\u001b[0m \u001b[0;34m\"D45_30\"\u001b[0m\u001b[0;34m,\u001b[0m \u001b[0;34m\"D45_34\"\u001b[0m\u001b[0;34m,\u001b[0m \u001b[0;34m\"D45_36\"\u001b[0m\u001b[0;34m]\u001b[0m\u001b[0;34m\u001b[0m\u001b[0;34m\u001b[0m\u001b[0m\n",
      "\u001b[0;32m~/miniconda3/envs/py3/lib/python3.9/site-packages/Bio/SeqIO/__init__.py\u001b[0m in \u001b[0;36mparse\u001b[0;34m(handle, format, alphabet)\u001b[0m\n\u001b[1;32m    605\u001b[0m     \u001b[0miterator_generator\u001b[0m \u001b[0;34m=\u001b[0m \u001b[0m_FormatToIterator\u001b[0m\u001b[0;34m.\u001b[0m\u001b[0mget\u001b[0m\u001b[0;34m(\u001b[0m\u001b[0mformat\u001b[0m\u001b[0;34m)\u001b[0m\u001b[0;34m\u001b[0m\u001b[0;34m\u001b[0m\u001b[0m\n\u001b[1;32m    606\u001b[0m     \u001b[0;32mif\u001b[0m \u001b[0miterator_generator\u001b[0m\u001b[0;34m:\u001b[0m\u001b[0;34m\u001b[0m\u001b[0;34m\u001b[0m\u001b[0m\n\u001b[0;32m--> 607\u001b[0;31m         \u001b[0;32mreturn\u001b[0m \u001b[0miterator_generator\u001b[0m\u001b[0;34m(\u001b[0m\u001b[0mhandle\u001b[0m\u001b[0;34m)\u001b[0m\u001b[0;34m\u001b[0m\u001b[0;34m\u001b[0m\u001b[0m\n\u001b[0m\u001b[1;32m    608\u001b[0m     \u001b[0;32mif\u001b[0m \u001b[0mformat\u001b[0m \u001b[0;32min\u001b[0m \u001b[0mAlignIO\u001b[0m\u001b[0;34m.\u001b[0m\u001b[0m_FormatToIterator\u001b[0m\u001b[0;34m:\u001b[0m\u001b[0;34m\u001b[0m\u001b[0;34m\u001b[0m\u001b[0m\n\u001b[1;32m    609\u001b[0m         \u001b[0;31m# Use Bio.AlignIO to read in the alignments\u001b[0m\u001b[0;34m\u001b[0m\u001b[0;34m\u001b[0m\u001b[0m\n",
      "\u001b[0;32m~/miniconda3/envs/py3/lib/python3.9/site-packages/Bio/SeqIO/InsdcIO.py\u001b[0m in \u001b[0;36m__init__\u001b[0;34m(self, source)\u001b[0m\n\u001b[1;32m     91\u001b[0m \u001b[0;34m\u001b[0m\u001b[0m\n\u001b[1;32m     92\u001b[0m         \"\"\"\n\u001b[0;32m---> 93\u001b[0;31m         \u001b[0msuper\u001b[0m\u001b[0;34m(\u001b[0m\u001b[0;34m)\u001b[0m\u001b[0;34m.\u001b[0m\u001b[0m__init__\u001b[0m\u001b[0;34m(\u001b[0m\u001b[0msource\u001b[0m\u001b[0;34m,\u001b[0m \u001b[0mmode\u001b[0m\u001b[0;34m=\u001b[0m\u001b[0;34m\"t\"\u001b[0m\u001b[0;34m,\u001b[0m \u001b[0mfmt\u001b[0m\u001b[0;34m=\u001b[0m\u001b[0;34m\"GenBank\"\u001b[0m\u001b[0;34m)\u001b[0m\u001b[0;34m\u001b[0m\u001b[0;34m\u001b[0m\u001b[0m\n\u001b[0m\u001b[1;32m     94\u001b[0m \u001b[0;34m\u001b[0m\u001b[0m\n\u001b[1;32m     95\u001b[0m     \u001b[0;32mdef\u001b[0m \u001b[0mparse\u001b[0m\u001b[0;34m(\u001b[0m\u001b[0mself\u001b[0m\u001b[0;34m,\u001b[0m \u001b[0mhandle\u001b[0m\u001b[0;34m)\u001b[0m\u001b[0;34m:\u001b[0m\u001b[0;34m\u001b[0m\u001b[0;34m\u001b[0m\u001b[0m\n",
      "\u001b[0;32m~/miniconda3/envs/py3/lib/python3.9/site-packages/Bio/SeqIO/Interfaces.py\u001b[0m in \u001b[0;36m__init__\u001b[0;34m(self, source, alphabet, mode, fmt)\u001b[0m\n\u001b[1;32m     45\u001b[0m             \u001b[0;32mraise\u001b[0m \u001b[0mValueError\u001b[0m\u001b[0;34m(\u001b[0m\u001b[0;34m\"The alphabet argument is no longer supported\"\u001b[0m\u001b[0;34m)\u001b[0m\u001b[0;34m\u001b[0m\u001b[0;34m\u001b[0m\u001b[0m\n\u001b[1;32m     46\u001b[0m         \u001b[0;32mtry\u001b[0m\u001b[0;34m:\u001b[0m\u001b[0;34m\u001b[0m\u001b[0;34m\u001b[0m\u001b[0m\n\u001b[0;32m---> 47\u001b[0;31m             \u001b[0mself\u001b[0m\u001b[0;34m.\u001b[0m\u001b[0mstream\u001b[0m \u001b[0;34m=\u001b[0m \u001b[0mopen\u001b[0m\u001b[0;34m(\u001b[0m\u001b[0msource\u001b[0m\u001b[0;34m,\u001b[0m \u001b[0;34m\"r\"\u001b[0m \u001b[0;34m+\u001b[0m \u001b[0mmode\u001b[0m\u001b[0;34m)\u001b[0m\u001b[0;34m\u001b[0m\u001b[0;34m\u001b[0m\u001b[0m\n\u001b[0m\u001b[1;32m     48\u001b[0m             \u001b[0mself\u001b[0m\u001b[0;34m.\u001b[0m\u001b[0mshould_close_stream\u001b[0m \u001b[0;34m=\u001b[0m \u001b[0;32mTrue\u001b[0m\u001b[0;34m\u001b[0m\u001b[0;34m\u001b[0m\u001b[0m\n\u001b[1;32m     49\u001b[0m         \u001b[0;32mexcept\u001b[0m \u001b[0mTypeError\u001b[0m\u001b[0;34m:\u001b[0m  \u001b[0;31m# not a path, assume we received a stream\u001b[0m\u001b[0;34m\u001b[0m\u001b[0;34m\u001b[0m\u001b[0m\n",
      "\u001b[0;31mFileNotFoundError\u001b[0m: [Errno 2] No such file or directory: 'D45.gbff'"
     ]
    }
   ],
   "source": [
    "from Bio import SeqIO\n",
    "import pandas as pd\n",
    "import re\n",
    "from Bio import SeqIO\n",
    "from dataclasses import replace\n",
    "import os\n",
    "from BCBio import GFF\n",
    "from Bio.Seq import Seq\n",
    "\n",
    "rcs = list(SeqIO.parse(\"D45.gbff\", \"genbank\"))\n",
    "\n",
    "plasmid_ids = [\"D45_12\", \"D45_16\", \"D45_20\", \"D45_25\", \"D45_28\", \"D45_29\", \"D45_30\", \"D45_34\", \"D45_36\"]\n",
    "rcs_chr = [x for x in rcs if x.id not in plasmid_ids]\n",
    "rcs_plasmids = [x for x in rcs if x.id in plasmid_ids]\n",
    "\n",
    "# write chrome and plasmids to separate files\n",
    "SeqIO.write(rcs_plasmids, \"D45_plasmids.gbk\", \"genbank\")\n",
    "SeqIO.write(rcs_chr, \"D45_chr.gbk\", \"genbank\")"
   ]
  },
  {
   "attachments": {},
   "cell_type": "markdown",
   "metadata": {},
   "source": [
    "# Merge bacteria protein annotations"
   ]
  },
  {
   "attachments": {},
   "cell_type": "markdown",
   "metadata": {},
   "source": [
    "### Extract KOs from EggNOG annotation"
   ]
  },
  {
   "cell_type": "code",
   "execution_count": null,
   "metadata": {},
   "outputs": [],
   "source": [
    "import pandas as pd\n",
    "import os\n",
    "\n",
    "df = pd.read_csv('p0062_anno_eggnog.tsv', sep='\\t')\n",
    "tbl = df.iloc[:,[0,8]]\n",
    "tbl = tbl[tbl.kegg_ko.notna()].copy()\n",
    "tbl['ctgid'] = tbl.apply(lambda x:'_'.join(x['prot_id'].split('_')[:-1]), axis=1)\n",
    "\n",
    "fs = tbl[[\"ctgid\", \"kegg_ko\"]].values.tolist()\n",
    "\n",
    "rst = []\n",
    "for item in fs:\n",
    "    kos = item[1]\n",
    "    ks = kos.replace('ko:', '')\n",
    "    for ko in ks.split(','):\n",
    "        rst.append([item[0], ko])\n",
    "\n",
    "df2 = pd.DataFrame(rst)\n",
    "df2.to_csv('kos.txt', sep='\\t', header=False, index=False)"
   ]
  },
  {
   "attachments": {},
   "cell_type": "markdown",
   "metadata": {},
   "source": [
    "### Annotate protein and add the annotation to the GBK file\n",
    "\n",
    "##### GBK from PhageGAN or Pharokka pipeline\n",
    "\n",
    "```bash\n",
    "# PhageGAN pipeline\n",
    "nextflow ...\n",
    "\n",
    "# or Pharokka pipeline\n",
    "sbatch ... anno_contig.slurm ...\n",
    "```\n",
    "\n",
    "##### MMseqs2 NR annotation\n",
    "\n",
    "```bash\n",
    "# TODO: annotate using MMseqs2 NR -> rstAnnoNR.m8\n",
    "\n",
    "# Pretty NR annotation\n",
    "pretty_mmseqs_nr_annotation.py -i rstAnnoNR.m8 -o rstAnnoNR.tsv\n",
    "\n",
    "# Add annotation to the GBK file\n",
    "add_annotation2gbk.py -i rstAnnoNR.tsv -g old.gbk -a 'function' -A 'anno_nr' -o new.gbk\n",
    "\n",
    "# example\n",
    "for f in $(ls gbk_pipeline/*.gbk);do\n",
    "    fid=$(basename $f | sed 's/.gbk//g')\n",
    "    add_annotation2gbk.py -i rstAnnoNR.tsv -g $f -a 'function' -A 'anno_nr' -o gbk_nr/${fid}.gbk\n",
    "done\n",
    "```\n",
    "\n",
    "##### EggNOG-mapper annotation\n",
    "\n",
    "```bash\n",
    "# TODO: annotate using emapper\n",
    "\n",
    "# Pretty emapper annotation\n",
    "parse_eggnog.py -i output_emapper.emapper.annotations -o em.tsv\n",
    "\n",
    "# Add annotation to the GBK file\n",
    "add_annotation2gbk.py -i em.tsv -g D45mix.gbk -a 'Preferred_name' -A 'anno_EggNOG_name' -o D45mix_EMname.gbk\n",
    "add_annotation2gbk.py -i em.tsv -g D45mix_EMname.gbk -a 'Description' -A 'anno_EggNOG_desc' -o D45mix_EMname_desc.gbk\n",
    "add_annotation2gbk.py -i em.tsv -g D45mix_EMname_desc.gbk -a 'PFAMs' -A 'anno_EggNOG_PFAM' -o D45mix_EMname_desc_PFAM.gbk\n",
    "add_annotation2gbk.py -i em.tsv -g D45mix_EMname_desc_PFAM.genbank -a 'max_annot_lvl' -A 'anno_EggNOG_lvl' -o D45mix_EMname_desc_PFAM_lvl.gbk\n",
    "```"
   ]
  },
  {
   "attachments": {},
   "cell_type": "markdown",
   "metadata": {},
   "source": [
    "#### 01-phagegan28samples\n",
    "\n",
    "`workflow_exp/data/00-raw/01-phagegan28samples/analysis`"
   ]
  },
  {
   "cell_type": "code",
   "execution_count": null,
   "metadata": {},
   "outputs": [],
   "source": [
    "fin = \"final_gbk/D45mix_em_lvl.genbank\"\n",
    "rcs = list(SeqIO.parse(fin, \"genbank\"))\n",
    "\n",
    "for rc in rcs:\n",
    "    for feature in rc.features:\n",
    "        product = feature.qualifiers.get('product')\n",
    "        if product and \"hypothetical protein\" in product:\n",
    "            anno_keys = [k for k in feature.qualifiers.keys() if 'anno_' in k]\n",
    "            if len(anno_keys) > 0:\n",
    "                anno = [feature.qualifiers.get(k)[0] for k in anno_keys]\n",
    "                anno = [x for x in anno if x != 'hypothetical protein']\n",
    "                if len(anno) > 0:\n",
    "                    feature.qualifiers.update({'product': ';'.join(anno)})\n",
    "\n",
    "with open(fout, 'w') as fh:\n",
    "    SeqIO.write(rcs, fh, \"genbank\")"
   ]
  },
  {
   "attachments": {},
   "cell_type": "markdown",
   "metadata": {},
   "source": [
    "#### 91407/124278 (73.4%) of the phage proteins have a hit in the nr database\n",
    "\n",
    "Input: `rstBhNR.m8`\n",
    "\n",
    "1. Extract NR functions from .m8 file,\n",
    "  ```bash\n",
    "  pretty_mmseqs_nr_annotation.py -i rstAnnoNR.m8 -o rstAnnoNR.tsv\n",
    "  ```\n",
    "\n",
    "2. Convert NR annotation to a dictionary `anno`,\n",
    "\n",
    "  ```json\n",
    "  {'D45s01_15_3899': \n",
    "    {'target': 'WP_063972546.1',\n",
    "    'pident': 64.4,\n",
    "    'bits': 146,\n",
    "    'evalue': 3.451e-37,\n",
    "    'taxid': 37914,\n",
    "    'function2': nan,\n",
    "    'function_opt': nan},\n",
    "\n",
    "  'D45s01_16_3995': \n",
    "    {'target': 'WP_107757771.1',\n",
    "    'pident': 96.9,\n",
    "    'bits': 953,\n",
    "    'evalue': 5.766e-310,\n",
    "    'taxid': 2617939,\n",
    "    'function2': 'LLM class flavin-dependent oxidoreductase',\n",
    "    'function_opt': '5,10-methylene tetrahydromethanopterin reductase;;putative monooxygenase'},\n",
    "  ...\n",
    "  }\n",
    "```"
   ]
  },
  {
   "attachments": {},
   "cell_type": "markdown",
   "metadata": {},
   "source": [
    "#### 28 个 samples 总共有 1297 个 contigs 的 124278 个 proteins header 转换为新的 feature_id\n",
    "\n",
    "Input: `phage28.faa`\n",
    "\n",
    "| prot_id    |   loc_range | genome_id   | feature_id         |\n",
    "|:-----------|------------:|:------------|:-------------------|\n",
    "| D45mix_1_0 |       1_267 | D45mix_1    | D45mix_1_1_267     |\n",
    "| D45mix_1_1 |     306_791 | D45mix_1    | D45mix_1_306_791   |\n",
    "| D45mix_1_2 |    788_1039 | D45mix_1    | D45mix_1_788_1039  |"
   ]
  },
  {
   "cell_type": "code",
   "execution_count": null,
   "metadata": {},
   "outputs": [],
   "source": [
    "def faa_header_to_df(fin):\n",
    "    # ID mapping of FASTA\n",
    "    rcs_fasta = list(SeqIO.parse(fin, \"fasta\"))\n",
    "    df = pd.DataFrame([x.description.split(' ') for x in rcs_fasta], columns=['prot_id', 'loc_range'])\n",
    "    df['genome_id'] = df.apply(lambda x: '_'.join(x['prot_id'].split('_')[:-1]), axis=1)\n",
    "    df['feature_id'] = df.apply(lambda x: '_'.join([x['genome_id'], x['loc_range']]), axis=1)\n",
    "\n",
    "    return df\n",
    "\n",
    "fin = \"phage28.faa\"\n",
    "id_mapping_faa = faa_header_to_df(fin)\n",
    "id_mapping_faa.head()"
   ]
  },
  {
   "attachments": {},
   "cell_type": "markdown",
   "metadata": {},
   "source": [
    "```bash\n",
    "# GFF -- FASTA_FAA --> GBK\n",
    "gff2gbk.py -f D45mix.gff -a D45mix_scaffolds.fasta -p phanotate_aas.fasta -o D45mix_manual.gbk\n",
    "\n",
    "# anno_nr >> GBK\n",
    "add_annotation2gbk.py -i rstAnnoNR.tsv -g D45mix_manual.gbk -a 'function' -A 'anno_nr' -o final.gbk\n",
    "```"
   ]
  },
  {
   "cell_type": "markdown",
   "metadata": {},
   "source": []
  }
 ],
 "metadata": {
  "kernelspec": {
   "display_name": "pyenv",
   "language": "python",
   "name": "python3"
  },
  "language_info": {
   "codemirror_mode": {
    "name": "ipython",
    "version": 3
   },
   "file_extension": ".py",
   "mimetype": "text/x-python",
   "name": "python",
   "nbconvert_exporter": "python",
   "pygments_lexer": "ipython3",
   "version": "3.10.9"
  },
  "orig_nbformat": 4,
  "vscode": {
   "interpreter": {
    "hash": "f208a61c82a41811437ee0a7620f2307fd786ebb410030e5069412803f63bcd5"
   }
  }
 },
 "nbformat": 4,
 "nbformat_minor": 2
}
